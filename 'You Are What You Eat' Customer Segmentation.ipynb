{
 "cells": [
  {
   "cell_type": "markdown",
   "id": "a976879b",
   "metadata": {},
   "source": [
    "# Customer Segmentation with K - Means"
   ]
  },
  {
   "cell_type": "markdown",
   "id": "18590d37",
   "metadata": {},
   "source": [
    "## Importing Packages"
   ]
  },
  {
   "cell_type": "code",
   "execution_count": 1,
   "id": "76f465e6",
   "metadata": {},
   "outputs": [],
   "source": [
    "from sklearn.cluster import KMeans\n",
    "from sklearn.preprocessing import MinMaxScaler\n",
    "import pandas as pd\n",
    "import matplotlib.pyplot as plt"
   ]
  },
  {
   "cell_type": "markdown",
   "id": "1406ee05",
   "metadata": {},
   "source": [
    "## Creating the data"
   ]
  },
  {
   "cell_type": "code",
   "execution_count": 2,
   "id": "42cc1a41",
   "metadata": {},
   "outputs": [],
   "source": [
    "#Importing tables\n",
    "transactions=pd.read_excel('data/grocery_database.xlsx', sheet_name='transactions')\n",
    "product_areas=pd.read_excel('data/grocery_database.xlsx', sheet_name='product_areas')"
   ]
  },
  {
   "cell_type": "code",
   "execution_count": 18,
   "id": "b53e8135",
   "metadata": {},
   "outputs": [
    {
     "data": {
      "text/html": [
       "<div>\n",
       "<style scoped>\n",
       "    .dataframe tbody tr th:only-of-type {\n",
       "        vertical-align: middle;\n",
       "    }\n",
       "\n",
       "    .dataframe tbody tr th {\n",
       "        vertical-align: top;\n",
       "    }\n",
       "\n",
       "    .dataframe thead th {\n",
       "        text-align: right;\n",
       "    }\n",
       "</style>\n",
       "<table border=\"1\" class=\"dataframe\">\n",
       "  <thead>\n",
       "    <tr style=\"text-align: right;\">\n",
       "      <th></th>\n",
       "      <th>customer_id</th>\n",
       "      <th>transaction_date</th>\n",
       "      <th>transaction_id</th>\n",
       "      <th>product_area_id</th>\n",
       "      <th>num_items</th>\n",
       "      <th>sales_cost</th>\n",
       "      <th>product_area_name</th>\n",
       "      <th>profit_margin</th>\n",
       "    </tr>\n",
       "  </thead>\n",
       "  <tbody>\n",
       "    <tr>\n",
       "      <th>0</th>\n",
       "      <td>1</td>\n",
       "      <td>2020-04-10</td>\n",
       "      <td>435657533999</td>\n",
       "      <td>3</td>\n",
       "      <td>7</td>\n",
       "      <td>19.16</td>\n",
       "      <td>Fruit</td>\n",
       "      <td>0.14</td>\n",
       "    </tr>\n",
       "    <tr>\n",
       "      <th>1</th>\n",
       "      <td>1</td>\n",
       "      <td>2020-07-20</td>\n",
       "      <td>436667313620</td>\n",
       "      <td>3</td>\n",
       "      <td>8</td>\n",
       "      <td>19.99</td>\n",
       "      <td>Fruit</td>\n",
       "      <td>0.14</td>\n",
       "    </tr>\n",
       "    <tr>\n",
       "      <th>2</th>\n",
       "      <td>1</td>\n",
       "      <td>2020-07-22</td>\n",
       "      <td>436686191960</td>\n",
       "      <td>3</td>\n",
       "      <td>20</td>\n",
       "      <td>61.69</td>\n",
       "      <td>Fruit</td>\n",
       "      <td>0.14</td>\n",
       "    </tr>\n",
       "    <tr>\n",
       "      <th>3</th>\n",
       "      <td>1</td>\n",
       "      <td>2020-08-12</td>\n",
       "      <td>436899350757</td>\n",
       "      <td>3</td>\n",
       "      <td>16</td>\n",
       "      <td>52.28</td>\n",
       "      <td>Fruit</td>\n",
       "      <td>0.14</td>\n",
       "    </tr>\n",
       "    <tr>\n",
       "      <th>4</th>\n",
       "      <td>1</td>\n",
       "      <td>2020-08-13</td>\n",
       "      <td>436908803653</td>\n",
       "      <td>3</td>\n",
       "      <td>14</td>\n",
       "      <td>34.58</td>\n",
       "      <td>Fruit</td>\n",
       "      <td>0.14</td>\n",
       "    </tr>\n",
       "    <tr>\n",
       "      <th>...</th>\n",
       "      <td>...</td>\n",
       "      <td>...</td>\n",
       "      <td>...</td>\n",
       "      <td>...</td>\n",
       "      <td>...</td>\n",
       "      <td>...</td>\n",
       "      <td>...</td>\n",
       "      <td>...</td>\n",
       "    </tr>\n",
       "    <tr>\n",
       "      <th>38501</th>\n",
       "      <td>870</td>\n",
       "      <td>2020-08-07</td>\n",
       "      <td>436848060721</td>\n",
       "      <td>5</td>\n",
       "      <td>3</td>\n",
       "      <td>27.00</td>\n",
       "      <td>Meat</td>\n",
       "      <td>0.11</td>\n",
       "    </tr>\n",
       "    <tr>\n",
       "      <th>38502</th>\n",
       "      <td>870</td>\n",
       "      <td>2020-08-16</td>\n",
       "      <td>436933386887</td>\n",
       "      <td>5</td>\n",
       "      <td>4</td>\n",
       "      <td>35.34</td>\n",
       "      <td>Meat</td>\n",
       "      <td>0.11</td>\n",
       "    </tr>\n",
       "    <tr>\n",
       "      <th>38503</th>\n",
       "      <td>870</td>\n",
       "      <td>2020-09-21</td>\n",
       "      <td>437291420399</td>\n",
       "      <td>5</td>\n",
       "      <td>2</td>\n",
       "      <td>20.40</td>\n",
       "      <td>Meat</td>\n",
       "      <td>0.11</td>\n",
       "    </tr>\n",
       "    <tr>\n",
       "      <th>38504</th>\n",
       "      <td>870</td>\n",
       "      <td>2020-09-23</td>\n",
       "      <td>437316479610</td>\n",
       "      <td>5</td>\n",
       "      <td>4</td>\n",
       "      <td>51.61</td>\n",
       "      <td>Meat</td>\n",
       "      <td>0.11</td>\n",
       "    </tr>\n",
       "    <tr>\n",
       "      <th>38505</th>\n",
       "      <td>870</td>\n",
       "      <td>2020-09-30</td>\n",
       "      <td>437385547544</td>\n",
       "      <td>5</td>\n",
       "      <td>3</td>\n",
       "      <td>23.46</td>\n",
       "      <td>Meat</td>\n",
       "      <td>0.11</td>\n",
       "    </tr>\n",
       "  </tbody>\n",
       "</table>\n",
       "<p>30722 rows × 8 columns</p>\n",
       "</div>"
      ],
      "text/plain": [
       "       customer_id transaction_date  transaction_id  product_area_id  \\\n",
       "0                1       2020-04-10    435657533999                3   \n",
       "1                1       2020-07-20    436667313620                3   \n",
       "2                1       2020-07-22    436686191960                3   \n",
       "3                1       2020-08-12    436899350757                3   \n",
       "4                1       2020-08-13    436908803653                3   \n",
       "...            ...              ...             ...              ...   \n",
       "38501          870       2020-08-07    436848060721                5   \n",
       "38502          870       2020-08-16    436933386887                5   \n",
       "38503          870       2020-09-21    437291420399                5   \n",
       "38504          870       2020-09-23    437316479610                5   \n",
       "38505          870       2020-09-30    437385547544                5   \n",
       "\n",
       "       num_items  sales_cost product_area_name  profit_margin  \n",
       "0              7       19.16             Fruit           0.14  \n",
       "1              8       19.99             Fruit           0.14  \n",
       "2             20       61.69             Fruit           0.14  \n",
       "3             16       52.28             Fruit           0.14  \n",
       "4             14       34.58             Fruit           0.14  \n",
       "...          ...         ...               ...            ...  \n",
       "38501          3       27.00              Meat           0.11  \n",
       "38502          4       35.34              Meat           0.11  \n",
       "38503          2       20.40              Meat           0.11  \n",
       "38504          4       51.61              Meat           0.11  \n",
       "38505          3       23.46              Meat           0.11  \n",
       "\n",
       "[30722 rows x 8 columns]"
      ]
     },
     "execution_count": 18,
     "metadata": {},
     "output_type": "execute_result"
    }
   ],
   "source": [
    "transactions"
   ]
  },
  {
   "cell_type": "code",
   "execution_count": 17,
   "id": "89be1664",
   "metadata": {},
   "outputs": [
    {
     "data": {
      "text/html": [
       "<div>\n",
       "<style scoped>\n",
       "    .dataframe tbody tr th:only-of-type {\n",
       "        vertical-align: middle;\n",
       "    }\n",
       "\n",
       "    .dataframe tbody tr th {\n",
       "        vertical-align: top;\n",
       "    }\n",
       "\n",
       "    .dataframe thead th {\n",
       "        text-align: right;\n",
       "    }\n",
       "</style>\n",
       "<table border=\"1\" class=\"dataframe\">\n",
       "  <thead>\n",
       "    <tr style=\"text-align: right;\">\n",
       "      <th></th>\n",
       "      <th>product_area_id</th>\n",
       "      <th>product_area_name</th>\n",
       "      <th>profit_margin</th>\n",
       "    </tr>\n",
       "  </thead>\n",
       "  <tbody>\n",
       "    <tr>\n",
       "      <th>0</th>\n",
       "      <td>1</td>\n",
       "      <td>Non-Food</td>\n",
       "      <td>0.25</td>\n",
       "    </tr>\n",
       "    <tr>\n",
       "      <th>1</th>\n",
       "      <td>2</td>\n",
       "      <td>Vegetables</td>\n",
       "      <td>0.18</td>\n",
       "    </tr>\n",
       "    <tr>\n",
       "      <th>2</th>\n",
       "      <td>3</td>\n",
       "      <td>Fruit</td>\n",
       "      <td>0.14</td>\n",
       "    </tr>\n",
       "    <tr>\n",
       "      <th>3</th>\n",
       "      <td>4</td>\n",
       "      <td>Dairy</td>\n",
       "      <td>0.19</td>\n",
       "    </tr>\n",
       "    <tr>\n",
       "      <th>4</th>\n",
       "      <td>5</td>\n",
       "      <td>Meat</td>\n",
       "      <td>0.11</td>\n",
       "    </tr>\n",
       "  </tbody>\n",
       "</table>\n",
       "</div>"
      ],
      "text/plain": [
       "   product_area_id product_area_name  profit_margin\n",
       "0                1          Non-Food           0.25\n",
       "1                2        Vegetables           0.18\n",
       "2                3             Fruit           0.14\n",
       "3                4             Dairy           0.19\n",
       "4                5              Meat           0.11"
      ]
     },
     "execution_count": 17,
     "metadata": {},
     "output_type": "execute_result"
    }
   ],
   "source": [
    "product_areas"
   ]
  },
  {
   "cell_type": "code",
   "execution_count": 3,
   "id": "e3ef418d",
   "metadata": {},
   "outputs": [],
   "source": [
    "#Merging on product area name\n",
    "transactions=pd.merge(transactions,product_areas, how='inner', on= 'product_area_id')"
   ]
  },
  {
   "cell_type": "code",
   "execution_count": 4,
   "id": "9f775cf9",
   "metadata": {},
   "outputs": [],
   "source": [
    "#Dropping the non food category\n",
    "transactions.drop(transactions[transactions['product_area_name']=='Non-Food'].index, inplace=True)"
   ]
  },
  {
   "cell_type": "code",
   "execution_count": 5,
   "id": "3fc064f3",
   "metadata": {},
   "outputs": [],
   "source": [
    "#Aggregating sales on customer level (by product area)\n",
    "transactions_summary=transactions.groupby(['customer_id','product_area_name' ])['sales_cost'].sum().reset_index()"
   ]
  },
  {
   "cell_type": "code",
   "execution_count": 6,
   "id": "ad25f04a",
   "metadata": {},
   "outputs": [],
   "source": [
    "#Pivoting data to place product area as columns\n",
    "transactions_summary_pivot=transactions.pivot_table(index='customer_id',\n",
    "                                                    columns='product_area_name',\n",
    "                                                    values='sales_cost',\n",
    "                                                    aggfunc='sum',\n",
    "                                                    fill_value=0,\n",
    "                                                    margins=True,\n",
    "                                                    margins_name='Total').rename_axis(None, axis=1)"
   ]
  },
  {
   "cell_type": "code",
   "execution_count": 7,
   "id": "6bd9227f",
   "metadata": {},
   "outputs": [],
   "source": [
    "#Turning Sales into % Sales\n",
    "transactions_summary_pivot=transactions_summary_pivot.div(transactions_summary_pivot['Total'], axis=0)"
   ]
  },
  {
   "cell_type": "code",
   "execution_count": 8,
   "id": "d1523ec2",
   "metadata": {},
   "outputs": [],
   "source": [
    "#Droppin the 'Total' column\n",
    "data_for_clustering=transactions_summary_pivot.drop(['Total'], axis=1)"
   ]
  },
  {
   "cell_type": "markdown",
   "id": "2a4b3e49",
   "metadata": {},
   "source": [
    "## Data preparation & Cleaning\n"
   ]
  },
  {
   "cell_type": "code",
   "execution_count": 9,
   "id": "3c9b207c",
   "metadata": {},
   "outputs": [
    {
     "data": {
      "text/plain": [
       "Dairy         0\n",
       "Fruit         0\n",
       "Meat          0\n",
       "Vegetables    0\n",
       "dtype: int64"
      ]
     },
     "execution_count": 9,
     "metadata": {},
     "output_type": "execute_result"
    }
   ],
   "source": [
    "#Checking for missing values\n",
    "data_for_clustering.isna().sum()"
   ]
  },
  {
   "cell_type": "code",
   "execution_count": 10,
   "id": "4e7fbf66",
   "metadata": {},
   "outputs": [],
   "source": [
    "#Normalising data\n",
    "scale_norm=MinMaxScaler()\n",
    "data_for_clustering_scaled=pd.DataFrame(scale_norm.fit_transform(data_for_clustering), columns=data_for_clustering.columns)"
   ]
  },
  {
   "cell_type": "markdown",
   "id": "486f4851",
   "metadata": {},
   "source": [
    "## Using WCSS to decide number of K\n"
   ]
  },
  {
   "cell_type": "code",
   "execution_count": 11,
   "id": "258bf986",
   "metadata": {},
   "outputs": [
    {
     "name": "stderr",
     "output_type": "stream",
     "text": [
      "C:\\Users\\costa\\anaconda3\\lib\\site-packages\\sklearn\\cluster\\_kmeans.py:1036: UserWarning: KMeans is known to have a memory leak on Windows with MKL, when there are less chunks than available threads. You can avoid it by setting the environment variable OMP_NUM_THREADS=4.\n",
      "  warnings.warn(\n"
     ]
    },
    {
     "data": {
      "image/png": "[encoded data removed]",
      "text/plain": [
       "<Figure size 640x480 with 1 Axes>"
      ]
     },
     "metadata": {},
     "output_type": "display_data"
    }
   ],
   "source": [
    "k_values=list(range(1,10))\n",
    "wcss_list=[]\n",
    "for k in k_values:\n",
    "    kmeans=KMeans(n_clusters=k, random_state=42)\n",
    "    kmeans.fit(data_for_clustering_scaled)\n",
    "    wcss_list.append(kmeans.inertia_)\n",
    "    \n",
    "plt.plot(k_values, wcss_list)\n",
    "plt.title('Within Cluster Sum Of Squares - by K')\n",
    "plt.xlabel('K')\n",
    "plt.ylabel('WCSS Score')\n",
    "plt.tight_layout()\n",
    "plt.show()"
   ]
  },
  {
   "cell_type": "markdown",
   "id": "44a57cff",
   "metadata": {},
   "source": [
    "## Instantiating and fitting the model\n"
   ]
  },
  {
   "cell_type": "code",
   "execution_count": 12,
   "id": "7c1e0e38",
   "metadata": {},
   "outputs": [
    {
     "data": {
      "text/plain": [
       "KMeans(n_clusters=3, random_state=42)"
      ]
     },
     "execution_count": 12,
     "metadata": {},
     "output_type": "execute_result"
    }
   ],
   "source": [
    "kmeans=KMeans(n_clusters=3, random_state=42)\n",
    "kmeans.fit(data_for_clustering_scaled)"
   ]
  },
  {
   "cell_type": "markdown",
   "id": "6864a834",
   "metadata": {},
   "source": [
    "## Using cluster information\n"
   ]
  },
  {
   "cell_type": "code",
   "execution_count": 14,
   "id": "cedd41ee",
   "metadata": {},
   "outputs": [],
   "source": [
    "#Add cluster label to data\n",
    "data_for_clustering['cluster']=kmeans.labels_"
   ]
  },
  {
   "cell_type": "code",
   "execution_count": 15,
   "id": "018fa49c",
   "metadata": {},
   "outputs": [
    {
     "data": {
      "text/plain": [
       "0    641\n",
       "2    127\n",
       "1    103\n",
       "Name: cluster, dtype: int64"
      ]
     },
     "execution_count": 15,
     "metadata": {},
     "output_type": "execute_result"
    }
   ],
   "source": [
    "#Check cluster size\n",
    "data_for_clustering['cluster'].value_counts()"
   ]
  },
  {
   "cell_type": "markdown",
   "id": "b60ad106",
   "metadata": {},
   "source": [
    "## Profiling our customers"
   ]
  },
  {
   "cell_type": "code",
   "execution_count": 16,
   "id": "8abc9793",
   "metadata": {},
   "outputs": [
    {
     "data": {
      "text/html": [
       "<div>\n",
       "<style scoped>\n",
       "    .dataframe tbody tr th:only-of-type {\n",
       "        vertical-align: middle;\n",
       "    }\n",
       "\n",
       "    .dataframe tbody tr th {\n",
       "        vertical-align: top;\n",
       "    }\n",
       "\n",
       "    .dataframe thead th {\n",
       "        text-align: right;\n",
       "    }\n",
       "</style>\n",
       "<table border=\"1\" class=\"dataframe\">\n",
       "  <thead>\n",
       "    <tr style=\"text-align: right;\">\n",
       "      <th></th>\n",
       "      <th>cluster</th>\n",
       "      <th>Dairy</th>\n",
       "      <th>Fruit</th>\n",
       "      <th>Meat</th>\n",
       "      <th>Vegetables</th>\n",
       "    </tr>\n",
       "  </thead>\n",
       "  <tbody>\n",
       "    <tr>\n",
       "      <th>0</th>\n",
       "      <td>0</td>\n",
       "      <td>0.220875</td>\n",
       "      <td>0.264605</td>\n",
       "      <td>0.376508</td>\n",
       "      <td>0.138011</td>\n",
       "    </tr>\n",
       "    <tr>\n",
       "      <th>1</th>\n",
       "      <td>1</td>\n",
       "      <td>0.002382</td>\n",
       "      <td>0.637796</td>\n",
       "      <td>0.003696</td>\n",
       "      <td>0.356126</td>\n",
       "    </tr>\n",
       "    <tr>\n",
       "      <th>2</th>\n",
       "      <td>2</td>\n",
       "      <td>0.363948</td>\n",
       "      <td>0.394152</td>\n",
       "      <td>0.029210</td>\n",
       "      <td>0.212690</td>\n",
       "    </tr>\n",
       "  </tbody>\n",
       "</table>\n",
       "</div>"
      ],
      "text/plain": [
       "   cluster     Dairy     Fruit      Meat  Vegetables\n",
       "0        0  0.220875  0.264605  0.376508    0.138011\n",
       "1        1  0.002382  0.637796  0.003696    0.356126\n",
       "2        2  0.363948  0.394152  0.029210    0.212690"
      ]
     },
     "execution_count": 16,
     "metadata": {},
     "output_type": "execute_result"
    }
   ],
   "source": [
    "cluster_summary=data_for_clustering.groupby('cluster')[['Dairy','Fruit','Meat','Vegetables']].mean().reset_index()\n",
    "cluster_summary"
   ]
  }
 ],
 "metadata": {
  "kernelspec": {
   "display_name": "Python 3 (ipykernel)",
   "language": "python",
   "name": "python3"
  },
  "language_info": {
   "codemirror_mode": {
    "name": "ipython",
    "version": 3
   },
   "file_extension": ".py",
   "mimetype": "text/x-python",
   "name": "python",
   "nbconvert_exporter": "python",
   "pygments_lexer": "ipython3",
   "version": "3.9.13"
  }
 },
 "nbformat": 4,
 "nbformat_minor": 5
}
